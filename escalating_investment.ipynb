{
 "cells": [
  {
   "cell_type": "code",
   "execution_count": 118,
   "metadata": {},
   "outputs": [],
   "source": [
    "def xn(primary_invest, periods_per_year, return_at_each_period, periodical_invest, n_years, escalating=True, inflation_rate=0.03,):\n",
    "    total_return = primary_invest\n",
    "    total_investment = primary_invest\n",
    "    for year in range(1, n_years + 1):\n",
    "        for period in range(periods_per_year):\n",
    "            total_return = (return_at_each_period * total_return) + periodical_invest\n",
    "        if escalating:\n",
    "            real_return = total_return / (1 + inflation_rate)\n",
    "            periodical_invest = periodical_invest * (1 + inflation_rate)\n",
    "        total_investment += periods_per_year * periodical_invest\n",
    "\n",
    "    roi = round((total_return / total_investment) * 100, 2)\n",
    "    result = {\"total_return\": int(total_return),\n",
    "              \"total_investment\": int(total_investment),\n",
    "              \"net_profit\" : int(total_return - total_investment),\n",
    "              \"ROI(%)\": roi}\n",
    "    if escalating:\n",
    "        result[\"real_net_profit\"] = int(real_return - total_investment)\n",
    "    return result"
   ]
  },
  {
   "cell_type": "code",
   "execution_count": 125,
   "metadata": {},
   "outputs": [],
   "source": [
    "primary_invest = 1000\n",
    "periods_per_year = 6\n",
    "return_at_each_period = 1.06\n",
    "periodical_invest = 200\n",
    "n_years = 15"
   ]
  },
  {
   "cell_type": "code",
   "execution_count": 126,
   "metadata": {},
   "outputs": [
    {
     "data": {
      "text/plain": [
       "{'total_return': 864184,\n",
       " 'total_investment': 23988,\n",
       " 'net_profit': 840196,\n",
       " 'ROI(%)': 3602.53,\n",
       " 'real_net_profit': 815025}"
      ]
     },
     "execution_count": 126,
     "metadata": {},
     "output_type": "execute_result"
    }
   ],
   "source": [
    "xn(primary_invest, periods_per_year, return_at_each_period, periodical_invest, n_years)"
   ]
  },
  {
   "cell_type": "code",
   "execution_count": null,
   "metadata": {},
   "outputs": [],
   "source": []
  }
 ],
 "metadata": {
  "kernelspec": {
   "display_name": "Python 3 (ipykernel)",
   "language": "python",
   "name": "python3"
  },
  "language_info": {
   "codemirror_mode": {
    "name": "ipython",
    "version": 3
   },
   "file_extension": ".py",
   "mimetype": "text/x-python",
   "name": "python",
   "nbconvert_exporter": "python",
   "pygments_lexer": "ipython3",
   "version": "3.12.4"
  }
 },
 "nbformat": 4,
 "nbformat_minor": 2
}
