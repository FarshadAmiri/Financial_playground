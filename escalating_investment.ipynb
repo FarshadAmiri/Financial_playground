{
 "cells": [
  {
   "cell_type": "code",
   "execution_count": 166,
   "metadata": {},
   "outputs": [],
   "source": [
    "def xn(primary_invest, periods_per_year, return_at_each_period, periodical_invest, n_years, escalating=True, inflation_rate=0.03, print_result=False):\n",
    "    total_return = primary_invest\n",
    "    total_investment = primary_invest\n",
    "    for year in range(1, n_years + 1):\n",
    "        for period in range(periods_per_year):\n",
    "            total_return = (return_at_each_period * total_return) + periodical_invest\n",
    "        if escalating:\n",
    "            # real_return = total_return / (1 + inflation_rate)\n",
    "            periodical_invest = periodical_invest * (1 + inflation_rate)\n",
    "        total_investment += periods_per_year * periodical_invest\n",
    "\n",
    "    real_return = total_return / ((1 + inflation_rate) ** n_years)\n",
    "    roi = round((total_return / total_investment) * 100, 2)\n",
    "\n",
    "    result = {\"total_return\": int(total_return),\n",
    "              \"real_return\" : int(real_return) if escalating else int(total_return), \n",
    "              \"total_investment\": int(total_investment),\n",
    "              \"net_profit\" : int(total_return - total_investment), \n",
    "              \"ROI(%)\": roi}\n",
    "    \n",
    "    print(f\"\"\"Total invest: {result[\"total_investment\"]:,} $\n",
    "Total return: {result[\"total_return\"]:,} $\n",
    "Real return : {result[\"real_return\"]:,} $\n",
    "Net profit  : {result[\"net_profit\"]:,} $\n",
    "ROI(Net):  {result[\"ROI(%)\"]:.0f}%\"\"\")\n",
    "    return result"
   ]
  },
  {
   "cell_type": "code",
   "execution_count": 167,
   "metadata": {},
   "outputs": [],
   "source": [
    "primary_invest = 1000\n",
    "periods_per_year = 6\n",
    "return_at_each_period = 1.1\n",
    "periodical_invest = 200\n",
    "n_years = 15"
   ]
  },
  {
   "cell_type": "code",
   "execution_count": 168,
   "metadata": {},
   "outputs": [
    {
     "name": "stdout",
     "output_type": "stream",
     "text": [
      "Total invest: 23,988 $\n",
      "Total return: 16,365,704 $\n",
      "Real return : 10,504,523 $\n",
      "Net profit  : 16,341,716 $\n",
      "ROI(Net):  68224%\n"
     ]
    }
   ],
   "source": [
    "result = xn(primary_invest, periods_per_year, return_at_each_period, periodical_invest, n_years, print_result=True)"
   ]
  },
  {
   "cell_type": "code",
   "execution_count": null,
   "metadata": {},
   "outputs": [],
   "source": []
  }
 ],
 "metadata": {
  "kernelspec": {
   "display_name": "Python 3 (ipykernel)",
   "language": "python",
   "name": "python3"
  },
  "language_info": {
   "codemirror_mode": {
    "name": "ipython",
    "version": 3
   },
   "file_extension": ".py",
   "mimetype": "text/x-python",
   "name": "python",
   "nbconvert_exporter": "python",
   "pygments_lexer": "ipython3",
   "version": "3.12.4"
  }
 },
 "nbformat": 4,
 "nbformat_minor": 2
}
